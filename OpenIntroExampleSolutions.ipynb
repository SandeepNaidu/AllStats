{
 "cells": [
  {
   "cell_type": "markdown",
   "metadata": {},
   "source": [
    "#### 1"
   ]
  },
  {
   "cell_type": "code",
   "execution_count": 35,
   "metadata": {
    "collapsed": false
   },
   "outputs": [
    {
     "data": {
      "text/html": [
       "<table>\n",
       "<thead><tr><th></th><th scope=col>painfree_yes</th><th scope=col>painfree_no</th><th scope=col>rowtotal</th></tr></thead>\n",
       "<tbody>\n",
       "\t<tr><th scope=row>treatment</th><td>10</td><td>33</td><td>43</td></tr>\n",
       "\t<tr><th scope=row>control</th><td>2</td><td>44</td><td>46</td></tr>\n",
       "\t<tr><th scope=row>columntotal</th><td>12</td><td>77</td><td>89</td></tr>\n",
       "</tbody>\n",
       "</table>\n"
      ],
      "text/latex": [
       "\\begin{tabular}{r|lll}\n",
       "  & painfree_yes & painfree_no & rowtotal\\\\\n",
       "\\hline\n",
       "\ttreatment & 10 & 33 & 43\\\\\n",
       "\tcontrol & 2 & 44 & 46\\\\\n",
       "\tcolumntotal & 12 & 77 & 89\\\\\n",
       "\\end{tabular}\n"
      ],
      "text/plain": [
       "            painfree_yes painfree_no rowtotal\n",
       "treatment             10          33       43\n",
       "control                2          44       46\n",
       "columntotal           12          77       89"
      ]
     },
     "execution_count": 35,
     "metadata": {},
     "output_type": "execute_result"
    }
   ],
   "source": [
    "if(!require(openintro)) {install.packages('openintro',repos=\"http://cran.us.r-project.org\");require(openintro)}\n",
    "columnnames <- c('painfree_yes','painfree_no','rowtotal')\n",
    "treatment <- c(10,33,43)\n",
    "control <- c(2,44,46)\n",
    "columntotal <- c(12,77,89)\n",
    "ctable<-rbind(treatment,control,columntotal)\n",
    "colnames(ctable)<-columnnames\n",
    "ctable <- data.frame(ctable)\n",
    "ctable"
   ]
  },
  {
   "cell_type": "markdown",
   "metadata": {},
   "source": [
    "##### a)"
   ]
  },
  {
   "cell_type": "code",
   "execution_count": 45,
   "metadata": {
    "collapsed": false
   },
   "outputs": [
    {
     "name": "stdout",
     "output_type": "stream",
     "text": [
      "[1] \"Painfree percent in treatment group =23.2558139534884%\"\n",
      "[1] \"Painfree percent in control group =23.2558139534884%\"\n"
     ]
    }
   ],
   "source": [
    "Painfree_treatmentgrp <- (ctable[\"treatment\",\"painfree_yes\"]/ctable[\"treatment\",\"rowtotal\"])*100\n",
    "print(paste0(\"Painfree percent in treatment group =\", Painfree_treatmentgrp,\"%\"))\n",
    "Painfree_controlgrp <- (ctable[\"control\",\"painfree_yes\"]/ctable[\"control\",\"rowtotal\"])*100\n",
    "print(paste0(\"Painfree percent in control group =\", Painfree_treatmentgrp,\"%\"))"
   ]
  },
  {
   "cell_type": "markdown",
   "metadata": {},
   "source": [
    "##### b)"
   ]
  },
  {
   "cell_type": "markdown",
   "metadata": {},
   "source": [
    "Acupuncture does not appear to be an effective treatment as many patients who got treatment still had pain. "
   ]
  }
 ],
 "metadata": {
  "kernelspec": {
   "display_name": "R",
   "language": "R",
   "name": "ir"
  },
  "language_info": {
   "codemirror_mode": "r",
   "file_extension": ".r",
   "mimetype": "text/x-r-source",
   "name": "R",
   "pygments_lexer": "r",
   "version": "3.2.2"
  }
 },
 "nbformat": 4,
 "nbformat_minor": 0
}
