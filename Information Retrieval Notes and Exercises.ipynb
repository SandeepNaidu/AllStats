{
 "cells": [
  {
   "cell_type": "markdown",
   "metadata": {},
   "source": [
    "#### Exercise 1.4)\n",
    "a) The time taken for the query \"Brutus AND NOT Caesar\" is same as \"Brutus AND Caesar\". The only change in the algorithm will be the way the tokens are dropped. Instead of dropping what is not matching between the postings list of Brutus and the postings list of Caesar, we will drop what is matching in postings list of Brutus and postings list of Caesar. However the query optimization to load the postings list in increasing order of their length in the matching algorithm cannot be followed. Here the postings list of the positive (to be included) postings list needs to be loaded first and then only the matching algorithm needs to work it out with dropping logic. So if the first term in this case or the postive term $M^{+}$ in general case (query can be \"Brutus AND NOT Caesar\" or \"NOT Caesar AND Brutus\") is greater in length than the postings list of the negative term $N^{-}$ then the work of the algorithm is $M^{+}$ even if $N^{-}$ < $M^{+}$.\n",
    "\n",
    "b)For the case of \"Brutus OR NOT Caesar\", the work is a lot more. The matching algorithm has to make a union of the\n",
    "postings list containing Brutus and also union of all the documents that do not contain Caesar in the entire collection. "
   ]
  }
 ],
 "metadata": {
  "kernelspec": {
   "display_name": "Python 2",
   "language": "python",
   "name": "python2"
  },
  "language_info": {
   "codemirror_mode": {
    "name": "ipython",
    "version": 2
   },
   "file_extension": ".py",
   "mimetype": "text/x-python",
   "name": "python",
   "nbconvert_exporter": "python",
   "pygments_lexer": "ipython2",
   "version": "2.7.10"
  }
 },
 "nbformat": 4,
 "nbformat_minor": 0
}
