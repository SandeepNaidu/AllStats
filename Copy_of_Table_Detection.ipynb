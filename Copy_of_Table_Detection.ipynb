{
  "nbformat": 4,
  "nbformat_minor": 0,
  "metadata": {
    "accelerator": "GPU",
    "colab": {
      "name": "Copy of Table-Detection.ipynb",
      "provenance": [],
      "collapsed_sections": [],
      "machine_shape": "hm",
      "include_colab_link": true
    },
    "kernelspec": {
      "display_name": "Python 3",
      "name": "python3"
    }
  },
  "cells": [
    {
      "cell_type": "markdown",
      "metadata": {
        "id": "view-in-github",
        "colab_type": "text"
      },
      "source": [
        "<a href=\"https://colab.research.google.com/github/SandeepNaidu/AllStats/blob/master/Copy_of_Table_Detection.ipynb\" target=\"_parent\"><img src=\"https://colab.research.google.com/assets/colab-badge.svg\" alt=\"Open In Colab\"/></a>"
      ]
    },
    {
      "cell_type": "code",
      "metadata": {
        "id": "y0vRlsaovQWT",
        "outputId": "000c010c-d79a-4184-fc0b-d0b57fe15fb2",
        "colab": {
          "base_uri": "https://localhost:8080/"
        }
      },
      "source": [
        "!pip install -q streamlit\n",
        "!pip install -q torch torchvision -f https://download.pytorch.org/whl/torch_stable.html\n",
        "!pip install -q mmcv terminaltables\n",
        "# !git clone --branch v1.2.0 'https://github.com/open-mmlab/mmdetection.git'\n",
        "%cd \"mmdetection\"\n",
        "!pip install -r \"/content/mmdetection/requirements/optional.txt\"\n",
        "!python setup.py install\n",
        "!python setup.py develop\n",
        "!pip install -r {\"requirements.txt\"}\n",
        "!pip -q install pillow\n",
        "!pip -q install mmcv\n",
        "%cd \"/content\""
      ],
      "execution_count": 2,
      "outputs": [
        {
          "output_type": "stream",
          "name": "stdout",
          "text": [
            "/content/mmdetection\n",
            "Looking in indexes: https://pypi.org/simple, https://us-python.pkg.dev/colab-wheels/public/simple/\n",
            "Requirement already satisfied: albumentations in /usr/local/lib/python3.7/dist-packages (from -r /content/mmdetection/requirements/optional.txt (line 1)) (1.2.0)\n",
            "Requirement already satisfied: cityscapesscripts in /usr/local/lib/python3.7/dist-packages (from -r /content/mmdetection/requirements/optional.txt (line 2)) (2.2.0)\n",
            "Requirement already satisfied: imagecorruptions in /usr/local/lib/python3.7/dist-packages (from -r /content/mmdetection/requirements/optional.txt (line 3)) (1.1.2)\n",
            "Requirement already satisfied: scipy in /usr/local/lib/python3.7/dist-packages (from albumentations->-r /content/mmdetection/requirements/optional.txt (line 1)) (1.4.1)\n",
            "Requirement already satisfied: scikit-image<0.19,>=0.16.1 in /usr/local/lib/python3.7/dist-packages (from albumentations->-r /content/mmdetection/requirements/optional.txt (line 1)) (0.18.3)\n",
            "Requirement already satisfied: qudida>=0.0.4 in /usr/local/lib/python3.7/dist-packages (from albumentations->-r /content/mmdetection/requirements/optional.txt (line 1)) (0.0.4)\n",
            "Requirement already satisfied: PyYAML in /usr/local/lib/python3.7/dist-packages (from albumentations->-r /content/mmdetection/requirements/optional.txt (line 1)) (3.13)\n",
            "Requirement already satisfied: opencv-python-headless>=4.1.1 in /usr/local/lib/python3.7/dist-packages (from albumentations->-r /content/mmdetection/requirements/optional.txt (line 1)) (4.6.0.66)\n",
            "Requirement already satisfied: numpy>=1.11.1 in /usr/local/lib/python3.7/dist-packages (from albumentations->-r /content/mmdetection/requirements/optional.txt (line 1)) (1.21.6)\n",
            "Requirement already satisfied: scikit-learn>=0.19.1 in /usr/local/lib/python3.7/dist-packages (from qudida>=0.0.4->albumentations->-r /content/mmdetection/requirements/optional.txt (line 1)) (1.0.2)\n",
            "Requirement already satisfied: typing-extensions in /usr/local/lib/python3.7/dist-packages (from qudida>=0.0.4->albumentations->-r /content/mmdetection/requirements/optional.txt (line 1)) (4.1.1)\n",
            "Requirement already satisfied: PyWavelets>=1.1.1 in /usr/local/lib/python3.7/dist-packages (from scikit-image<0.19,>=0.16.1->albumentations->-r /content/mmdetection/requirements/optional.txt (line 1)) (1.3.0)\n",
            "Requirement already satisfied: pillow!=7.1.0,!=7.1.1,>=4.3.0 in /usr/local/lib/python3.7/dist-packages (from scikit-image<0.19,>=0.16.1->albumentations->-r /content/mmdetection/requirements/optional.txt (line 1)) (6.2.2)\n",
            "Requirement already satisfied: networkx>=2.0 in /usr/local/lib/python3.7/dist-packages (from scikit-image<0.19,>=0.16.1->albumentations->-r /content/mmdetection/requirements/optional.txt (line 1)) (2.6.3)\n",
            "Requirement already satisfied: tifffile>=2019.7.26 in /usr/local/lib/python3.7/dist-packages (from scikit-image<0.19,>=0.16.1->albumentations->-r /content/mmdetection/requirements/optional.txt (line 1)) (2021.11.2)\n",
            "Requirement already satisfied: matplotlib!=3.0.0,>=2.0.0 in /usr/local/lib/python3.7/dist-packages (from scikit-image<0.19,>=0.16.1->albumentations->-r /content/mmdetection/requirements/optional.txt (line 1)) (3.2.2)\n",
            "Requirement already satisfied: imageio>=2.3.0 in /usr/local/lib/python3.7/dist-packages (from scikit-image<0.19,>=0.16.1->albumentations->-r /content/mmdetection/requirements/optional.txt (line 1)) (2.4.1)\n",
            "Requirement already satisfied: python-dateutil>=2.1 in /usr/local/lib/python3.7/dist-packages (from matplotlib!=3.0.0,>=2.0.0->scikit-image<0.19,>=0.16.1->albumentations->-r /content/mmdetection/requirements/optional.txt (line 1)) (2.8.2)\n",
            "Requirement already satisfied: kiwisolver>=1.0.1 in /usr/local/lib/python3.7/dist-packages (from matplotlib!=3.0.0,>=2.0.0->scikit-image<0.19,>=0.16.1->albumentations->-r /content/mmdetection/requirements/optional.txt (line 1)) (1.4.3)\n",
            "Requirement already satisfied: pyparsing!=2.0.4,!=2.1.2,!=2.1.6,>=2.0.1 in /usr/local/lib/python3.7/dist-packages (from matplotlib!=3.0.0,>=2.0.0->scikit-image<0.19,>=0.16.1->albumentations->-r /content/mmdetection/requirements/optional.txt (line 1)) (3.0.9)\n",
            "Requirement already satisfied: cycler>=0.10 in /usr/local/lib/python3.7/dist-packages (from matplotlib!=3.0.0,>=2.0.0->scikit-image<0.19,>=0.16.1->albumentations->-r /content/mmdetection/requirements/optional.txt (line 1)) (0.11.0)\n",
            "Requirement already satisfied: six>=1.5 in /usr/local/lib/python3.7/dist-packages (from python-dateutil>=2.1->matplotlib!=3.0.0,>=2.0.0->scikit-image<0.19,>=0.16.1->albumentations->-r /content/mmdetection/requirements/optional.txt (line 1)) (1.15.0)\n",
            "Requirement already satisfied: joblib>=0.11 in /usr/local/lib/python3.7/dist-packages (from scikit-learn>=0.19.1->qudida>=0.0.4->albumentations->-r /content/mmdetection/requirements/optional.txt (line 1)) (1.1.0)\n",
            "Requirement already satisfied: threadpoolctl>=2.0.0 in /usr/local/lib/python3.7/dist-packages (from scikit-learn>=0.19.1->qudida>=0.0.4->albumentations->-r /content/mmdetection/requirements/optional.txt (line 1)) (3.1.0)\n",
            "Requirement already satisfied: pyquaternion in /usr/local/lib/python3.7/dist-packages (from cityscapesscripts->-r /content/mmdetection/requirements/optional.txt (line 2)) (0.9.9)\n",
            "Requirement already satisfied: tqdm in /usr/local/lib/python3.7/dist-packages (from cityscapesscripts->-r /content/mmdetection/requirements/optional.txt (line 2)) (4.64.0)\n",
            "Requirement already satisfied: appdirs in /usr/local/lib/python3.7/dist-packages (from cityscapesscripts->-r /content/mmdetection/requirements/optional.txt (line 2)) (1.4.4)\n",
            "Requirement already satisfied: coloredlogs in /usr/local/lib/python3.7/dist-packages (from cityscapesscripts->-r /content/mmdetection/requirements/optional.txt (line 2)) (15.0.1)\n",
            "Requirement already satisfied: typing in /usr/local/lib/python3.7/dist-packages (from cityscapesscripts->-r /content/mmdetection/requirements/optional.txt (line 2)) (3.7.4.3)\n",
            "Requirement already satisfied: opencv-python>=3.4.5 in /usr/local/lib/python3.7/dist-packages (from imagecorruptions->-r /content/mmdetection/requirements/optional.txt (line 3)) (4.1.2.30)\n",
            "Requirement already satisfied: humanfriendly>=9.1 in /usr/local/lib/python3.7/dist-packages (from coloredlogs->cityscapesscripts->-r /content/mmdetection/requirements/optional.txt (line 2)) (10.0)\n",
            "running install\n",
            "running bdist_egg\n",
            "running egg_info\n",
            "writing mmdet.egg-info/PKG-INFO\n",
            "writing dependency_links to mmdet.egg-info/dependency_links.txt\n",
            "writing requirements to mmdet.egg-info/requires.txt\n",
            "writing top-level names to mmdet.egg-info/top_level.txt\n",
            "/usr/local/lib/python3.7/dist-packages/torch/utils/cpp_extension.py:387: UserWarning: Attempted to use ninja as the BuildExtension backend but we could not find ninja.. Falling back to using the slow distutils backend.\n",
            "  warnings.warn(msg.format('we could not find ninja.'))\n",
            "adding license file 'LICENSE'\n",
            "writing manifest file 'mmdet.egg-info/SOURCES.txt'\n",
            "installing library code to build/bdist.linux-x86_64/egg\n",
            "running install_lib\n",
            "running build_py\n",
            "copying mmdet/version.py -> build/lib.linux-x86_64-3.7/mmdet\n",
            "running build_ext\n",
            "/usr/local/lib/python3.7/dist-packages/torch/utils/cpp_extension.py:788: UserWarning: The detected CUDA version (11.1) has a minor version mismatch with the version that was used to compile PyTorch (11.3). Most likely this shouldn't be a problem.\n",
            "  warnings.warn(CUDA_MISMATCH_WARN.format(cuda_str_version, torch.version.cuda))\n",
            "building 'mmdet.ops.nms.nms_cuda' extension\n",
            "x86_64-linux-gnu-gcc -pthread -Wno-unused-result -Wsign-compare -DNDEBUG -g -fwrapv -O2 -Wall -g -fstack-protector-strong -Wformat -Werror=format-security -g -fwrapv -O2 -g -fstack-protector-strong -Wformat -Werror=format-security -Wdate-time -D_FORTIFY_SOURCE=2 -fPIC -DWITH_CUDA -I/usr/local/lib/python3.7/dist-packages/torch/include -I/usr/local/lib/python3.7/dist-packages/torch/include/torch/csrc/api/include -I/usr/local/lib/python3.7/dist-packages/torch/include/TH -I/usr/local/lib/python3.7/dist-packages/torch/include/THC -I/usr/local/cuda/include -I/usr/include/python3.7m -c mmdet/ops/nms/src/nms_cuda.cpp -o build/temp.linux-x86_64-3.7/mmdet/ops/nms/src/nms_cuda.o -DTORCH_API_INCLUDE_EXTENSION_H -DPYBIND11_COMPILER_TYPE=\"_gcc\" -DPYBIND11_STDLIB=\"_libstdcpp\" -DPYBIND11_BUILD_ABI=\"_cxxabi1011\" -DTORCH_EXTENSION_NAME=nms_cuda -D_GLIBCXX_USE_CXX11_ABI=0 -std=c++14\n",
            "\u001b[01m\u001b[Kmmdet/ops/nms/src/nms_cuda.cpp:\u001b[m\u001b[K In function ‘\u001b[01m\u001b[Kat::Tensor nms(const at::Tensor&, float)\u001b[m\u001b[K’:\n",
            "\u001b[01m\u001b[Kmmdet/ops/nms/src/nms_cuda.cpp:4:39:\u001b[m\u001b[K \u001b[01;35m\u001b[Kwarning: \u001b[m\u001b[K‘\u001b[01m\u001b[Kat::DeprecatedTypeProperties& at::Tensor::type() const\u001b[m\u001b[K’ is deprecated: Tensor.type() is deprecated. Instead use Tensor.options(), which in many cases (e.g. in a constructor) is a drop-in replacement. If you were using data from type(), that is now available from Tensor itself, so instead of tensor.type().scalar_type(), use tensor.scalar_type() instead and instead of tensor.type().backend() use tensor.device(). [\u001b[01;35m\u001b[K-Wdeprecated-declarations\u001b[m\u001b[K]\n",
            " #define CHECK_CUDA(x) AT_CHECK(x.type(\u001b[01;35m\u001b[K)\u001b[m\u001b[K.is_cuda(), #x, \" must be a CUDAtensor \")\n",
            "                                       \u001b[01;35m\u001b[K^\u001b[m\u001b[K\n",
            "\u001b[01m\u001b[Kmmdet/ops/nms/src/nms_cuda.cpp:9:3:\u001b[m\u001b[K \u001b[01;36m\u001b[Knote: \u001b[m\u001b[Kin expansion of macro ‘\u001b[01m\u001b[KCHECK_CUDA\u001b[m\u001b[K’\n",
            "   \u001b[01;36m\u001b[KC\u001b[m\u001b[KHECK_CUDA(dets);\n",
            "   \u001b[01;36m\u001b[K^\u001b[m\u001b[K\n",
            "In file included from \u001b[01m\u001b[K/usr/local/lib/python3.7/dist-packages/torch/include/ATen/core/Tensor.h:3:0\u001b[m\u001b[K,\n",
            "                 from \u001b[01m\u001b[K/usr/local/lib/python3.7/dist-packages/torch/include/ATen/DeviceGuard.h:4\u001b[m\u001b[K,\n",
            "                 from \u001b[01m\u001b[K/usr/local/lib/python3.7/dist-packages/torch/include/ATen/ATen.h:11\u001b[m\u001b[K,\n",
            "                 from \u001b[01m\u001b[K/usr/local/lib/python3.7/dist-packages/torch/include/torch/csrc/api/include/torch/types.h:3\u001b[m\u001b[K,\n",
            "                 from \u001b[01m\u001b[K/usr/local/lib/python3.7/dist-packages/torch/include/torch/csrc/api/include/torch/data/dataloader_options.h:4\u001b[m\u001b[K,\n",
            "                 from \u001b[01m\u001b[K/usr/local/lib/python3.7/dist-packages/torch/include/torch/csrc/api/include/torch/data/dataloader/base.h:3\u001b[m\u001b[K,\n",
            "                 from \u001b[01m\u001b[K/usr/local/lib/python3.7/dist-packages/torch/include/torch/csrc/api/include/torch/data/dataloader/stateful.h:3\u001b[m\u001b[K,\n",
            "                 from \u001b[01m\u001b[K/usr/local/lib/python3.7/dist-packages/torch/include/torch/csrc/api/include/torch/data/dataloader.h:3\u001b[m\u001b[K,\n",
            "                 from \u001b[01m\u001b[K/usr/local/lib/python3.7/dist-packages/torch/include/torch/csrc/api/include/torch/data.h:3\u001b[m\u001b[K,\n",
            "                 from \u001b[01m\u001b[K/usr/local/lib/python3.7/dist-packages/torch/include/torch/csrc/api/include/torch/all.h:8\u001b[m\u001b[K,\n",
            "                 from \u001b[01m\u001b[K/usr/local/lib/python3.7/dist-packages/torch/include/torch/extension.h:4\u001b[m\u001b[K,\n",
            "                 from \u001b[01m\u001b[Kmmdet/ops/nms/src/nms_cuda.cpp:2\u001b[m\u001b[K:\n",
            "\u001b[01m\u001b[K/usr/local/lib/python3.7/dist-packages/torch/include/ATen/core/TensorBody.h:210:30:\u001b[m\u001b[K \u001b[01;36m\u001b[Knote: \u001b[m\u001b[Kdeclared here\n",
            "   DeprecatedTypeProperties & \u001b[01;36m\u001b[Ktype\u001b[m\u001b[K() const {\n",
            "                              \u001b[01;36m\u001b[K^~~~\u001b[m\u001b[K\n",
            "\u001b[01m\u001b[Kmmdet/ops/nms/src/nms_cuda.cpp:4:23:\u001b[m\u001b[K \u001b[01;31m\u001b[Kerror: \u001b[m\u001b[K‘\u001b[01m\u001b[KAT_CHECK\u001b[m\u001b[K’ was not declared in this scope\n",
            " #define CHECK_CUDA(x) \u001b[01;31m\u001b[KA\u001b[m\u001b[KT_CHECK(x.type().is_cuda(), #x, \" must be a CUDAtensor \")\n",
            "                       \u001b[01;31m\u001b[K^\u001b[m\u001b[K\n",
            "\u001b[01m\u001b[Kmmdet/ops/nms/src/nms_cuda.cpp:4:23:\u001b[m\u001b[K \u001b[01;36m\u001b[Knote: \u001b[m\u001b[Kin definition of macro ‘\u001b[01m\u001b[KCHECK_CUDA\u001b[m\u001b[K’\n",
            " #define CHECK_CUDA(x) \u001b[01;36m\u001b[KAT_CHECK\u001b[m\u001b[K(x.type().is_cuda(), #x, \" must be a CUDAtensor \")\n",
            "                       \u001b[01;36m\u001b[K^~~~~~~~\u001b[m\u001b[K\n",
            "\u001b[01m\u001b[Kmmdet/ops/nms/src/nms_cuda.cpp:4:23:\u001b[m\u001b[K \u001b[01;36m\u001b[Knote: \u001b[m\u001b[Ksuggested alternative: ‘\u001b[01m\u001b[KDCHECK\u001b[m\u001b[K’\n",
            " #define CHECK_CUDA(x) \u001b[01;36m\u001b[KA\u001b[m\u001b[KT_CHECK(x.type().is_cuda(), #x, \" must be a CUDAtensor \")\n",
            "                       \u001b[01;36m\u001b[K^\u001b[m\u001b[K\n",
            "\u001b[01m\u001b[Kmmdet/ops/nms/src/nms_cuda.cpp:4:23:\u001b[m\u001b[K \u001b[01;36m\u001b[Knote: \u001b[m\u001b[Kin definition of macro ‘\u001b[01m\u001b[KCHECK_CUDA\u001b[m\u001b[K’\n",
            " #define CHECK_CUDA(x) \u001b[01;36m\u001b[KAT_CHECK\u001b[m\u001b[K(x.type().is_cuda(), #x, \" must be a CUDAtensor \")\n",
            "                       \u001b[01;36m\u001b[K^~~~~~~~\u001b[m\u001b[K\n",
            "error: command 'x86_64-linux-gnu-gcc' failed with exit status 1\n",
            "running develop\n",
            "running egg_info\n",
            "writing mmdet.egg-info/PKG-INFO\n",
            "writing dependency_links to mmdet.egg-info/dependency_links.txt\n",
            "writing requirements to mmdet.egg-info/requires.txt\n",
            "writing top-level names to mmdet.egg-info/top_level.txt\n",
            "/usr/local/lib/python3.7/dist-packages/torch/utils/cpp_extension.py:387: UserWarning: Attempted to use ninja as the BuildExtension backend but we could not find ninja.. Falling back to using the slow distutils backend.\n",
            "  warnings.warn(msg.format('we could not find ninja.'))\n",
            "adding license file 'LICENSE'\n",
            "writing manifest file 'mmdet.egg-info/SOURCES.txt'\n",
            "running build_ext\n",
            "/usr/local/lib/python3.7/dist-packages/torch/utils/cpp_extension.py:788: UserWarning: The detected CUDA version (11.1) has a minor version mismatch with the version that was used to compile PyTorch (11.3). Most likely this shouldn't be a problem.\n",
            "  warnings.warn(CUDA_MISMATCH_WARN.format(cuda_str_version, torch.version.cuda))\n",
            "building 'mmdet.ops.nms.nms_cuda' extension\n",
            "x86_64-linux-gnu-gcc -pthread -Wno-unused-result -Wsign-compare -DNDEBUG -g -fwrapv -O2 -Wall -g -fstack-protector-strong -Wformat -Werror=format-security -g -fwrapv -O2 -g -fstack-protector-strong -Wformat -Werror=format-security -Wdate-time -D_FORTIFY_SOURCE=2 -fPIC -DWITH_CUDA -I/usr/local/lib/python3.7/dist-packages/torch/include -I/usr/local/lib/python3.7/dist-packages/torch/include/torch/csrc/api/include -I/usr/local/lib/python3.7/dist-packages/torch/include/TH -I/usr/local/lib/python3.7/dist-packages/torch/include/THC -I/usr/local/cuda/include -I/usr/include/python3.7m -c mmdet/ops/nms/src/nms_cuda.cpp -o build/temp.linux-x86_64-3.7/mmdet/ops/nms/src/nms_cuda.o -DTORCH_API_INCLUDE_EXTENSION_H -DPYBIND11_COMPILER_TYPE=\"_gcc\" -DPYBIND11_STDLIB=\"_libstdcpp\" -DPYBIND11_BUILD_ABI=\"_cxxabi1011\" -DTORCH_EXTENSION_NAME=nms_cuda -D_GLIBCXX_USE_CXX11_ABI=0 -std=c++14\n",
            "\u001b[01m\u001b[Kmmdet/ops/nms/src/nms_cuda.cpp:\u001b[m\u001b[K In function ‘\u001b[01m\u001b[Kat::Tensor nms(const at::Tensor&, float)\u001b[m\u001b[K’:\n",
            "\u001b[01m\u001b[Kmmdet/ops/nms/src/nms_cuda.cpp:4:39:\u001b[m\u001b[K \u001b[01;35m\u001b[Kwarning: \u001b[m\u001b[K‘\u001b[01m\u001b[Kat::DeprecatedTypeProperties& at::Tensor::type() const\u001b[m\u001b[K’ is deprecated: Tensor.type() is deprecated. Instead use Tensor.options(), which in many cases (e.g. in a constructor) is a drop-in replacement. If you were using data from type(), that is now available from Tensor itself, so instead of tensor.type().scalar_type(), use tensor.scalar_type() instead and instead of tensor.type().backend() use tensor.device(). [\u001b[01;35m\u001b[K-Wdeprecated-declarations\u001b[m\u001b[K]\n",
            " #define CHECK_CUDA(x) AT_CHECK(x.type(\u001b[01;35m\u001b[K)\u001b[m\u001b[K.is_cuda(), #x, \" must be a CUDAtensor \")\n",
            "                                       \u001b[01;35m\u001b[K^\u001b[m\u001b[K\n",
            "\u001b[01m\u001b[Kmmdet/ops/nms/src/nms_cuda.cpp:9:3:\u001b[m\u001b[K \u001b[01;36m\u001b[Knote: \u001b[m\u001b[Kin expansion of macro ‘\u001b[01m\u001b[KCHECK_CUDA\u001b[m\u001b[K’\n",
            "   \u001b[01;36m\u001b[KC\u001b[m\u001b[KHECK_CUDA(dets);\n",
            "   \u001b[01;36m\u001b[K^\u001b[m\u001b[K\n",
            "In file included from \u001b[01m\u001b[K/usr/local/lib/python3.7/dist-packages/torch/include/ATen/core/Tensor.h:3:0\u001b[m\u001b[K,\n",
            "                 from \u001b[01m\u001b[K/usr/local/lib/python3.7/dist-packages/torch/include/ATen/DeviceGuard.h:4\u001b[m\u001b[K,\n",
            "                 from \u001b[01m\u001b[K/usr/local/lib/python3.7/dist-packages/torch/include/ATen/ATen.h:11\u001b[m\u001b[K,\n",
            "                 from \u001b[01m\u001b[K/usr/local/lib/python3.7/dist-packages/torch/include/torch/csrc/api/include/torch/types.h:3\u001b[m\u001b[K,\n",
            "                 from \u001b[01m\u001b[K/usr/local/lib/python3.7/dist-packages/torch/include/torch/csrc/api/include/torch/data/dataloader_options.h:4\u001b[m\u001b[K,\n",
            "                 from \u001b[01m\u001b[K/usr/local/lib/python3.7/dist-packages/torch/include/torch/csrc/api/include/torch/data/dataloader/base.h:3\u001b[m\u001b[K,\n",
            "                 from \u001b[01m\u001b[K/usr/local/lib/python3.7/dist-packages/torch/include/torch/csrc/api/include/torch/data/dataloader/stateful.h:3\u001b[m\u001b[K,\n",
            "                 from \u001b[01m\u001b[K/usr/local/lib/python3.7/dist-packages/torch/include/torch/csrc/api/include/torch/data/dataloader.h:3\u001b[m\u001b[K,\n",
            "                 from \u001b[01m\u001b[K/usr/local/lib/python3.7/dist-packages/torch/include/torch/csrc/api/include/torch/data.h:3\u001b[m\u001b[K,\n",
            "                 from \u001b[01m\u001b[K/usr/local/lib/python3.7/dist-packages/torch/include/torch/csrc/api/include/torch/all.h:8\u001b[m\u001b[K,\n",
            "                 from \u001b[01m\u001b[K/usr/local/lib/python3.7/dist-packages/torch/include/torch/extension.h:4\u001b[m\u001b[K,\n",
            "                 from \u001b[01m\u001b[Kmmdet/ops/nms/src/nms_cuda.cpp:2\u001b[m\u001b[K:\n",
            "\u001b[01m\u001b[K/usr/local/lib/python3.7/dist-packages/torch/include/ATen/core/TensorBody.h:210:30:\u001b[m\u001b[K \u001b[01;36m\u001b[Knote: \u001b[m\u001b[Kdeclared here\n",
            "   DeprecatedTypeProperties & \u001b[01;36m\u001b[Ktype\u001b[m\u001b[K() const {\n",
            "                              \u001b[01;36m\u001b[K^~~~\u001b[m\u001b[K\n",
            "\u001b[01m\u001b[Kmmdet/ops/nms/src/nms_cuda.cpp:4:23:\u001b[m\u001b[K \u001b[01;31m\u001b[Kerror: \u001b[m\u001b[K‘\u001b[01m\u001b[KAT_CHECK\u001b[m\u001b[K’ was not declared in this scope\n",
            " #define CHECK_CUDA(x) \u001b[01;31m\u001b[KA\u001b[m\u001b[KT_CHECK(x.type().is_cuda(), #x, \" must be a CUDAtensor \")\n",
            "                       \u001b[01;31m\u001b[K^\u001b[m\u001b[K\n",
            "\u001b[01m\u001b[Kmmdet/ops/nms/src/nms_cuda.cpp:4:23:\u001b[m\u001b[K \u001b[01;36m\u001b[Knote: \u001b[m\u001b[Kin definition of macro ‘\u001b[01m\u001b[KCHECK_CUDA\u001b[m\u001b[K’\n",
            " #define CHECK_CUDA(x) \u001b[01;36m\u001b[KAT_CHECK\u001b[m\u001b[K(x.type().is_cuda(), #x, \" must be a CUDAtensor \")\n",
            "                       \u001b[01;36m\u001b[K^~~~~~~~\u001b[m\u001b[K\n",
            "\u001b[01m\u001b[Kmmdet/ops/nms/src/nms_cuda.cpp:4:23:\u001b[m\u001b[K \u001b[01;36m\u001b[Knote: \u001b[m\u001b[Ksuggested alternative: ‘\u001b[01m\u001b[KDCHECK\u001b[m\u001b[K’\n",
            " #define CHECK_CUDA(x) \u001b[01;36m\u001b[KA\u001b[m\u001b[KT_CHECK(x.type().is_cuda(), #x, \" must be a CUDAtensor \")\n",
            "                       \u001b[01;36m\u001b[K^\u001b[m\u001b[K\n",
            "\u001b[01m\u001b[Kmmdet/ops/nms/src/nms_cuda.cpp:4:23:\u001b[m\u001b[K \u001b[01;36m\u001b[Knote: \u001b[m\u001b[Kin definition of macro ‘\u001b[01m\u001b[KCHECK_CUDA\u001b[m\u001b[K’\n",
            " #define CHECK_CUDA(x) \u001b[01;36m\u001b[KAT_CHECK\u001b[m\u001b[K(x.type().is_cuda(), #x, \" must be a CUDAtensor \")\n",
            "                       \u001b[01;36m\u001b[K^~~~~~~~\u001b[m\u001b[K\n",
            "error: command 'x86_64-linux-gnu-gcc' failed with exit status 1\n",
            "Looking in indexes: https://pypi.org/simple, https://us-python.pkg.dev/colab-wheels/public/simple/\n",
            "Requirement already satisfied: numpy in /usr/local/lib/python3.7/dist-packages (from -r requirements/build.txt (line 2)) (1.21.6)\n",
            "Requirement already satisfied: torch>=1.1 in /usr/local/lib/python3.7/dist-packages (from -r requirements/build.txt (line 3)) (1.11.0+cu113)\n",
            "Requirement already satisfied: albumentations in /usr/local/lib/python3.7/dist-packages (from -r requirements/optional.txt (line 1)) (1.2.0)\n",
            "Requirement already satisfied: cityscapesscripts in /usr/local/lib/python3.7/dist-packages (from -r requirements/optional.txt (line 2)) (2.2.0)\n",
            "Requirement already satisfied: imagecorruptions in /usr/local/lib/python3.7/dist-packages (from -r requirements/optional.txt (line 3)) (1.1.2)\n",
            "Requirement already satisfied: matplotlib in /usr/local/lib/python3.7/dist-packages (from -r requirements/runtime.txt (line 1)) (3.2.2)\n",
            "Requirement already satisfied: mmcv in /usr/local/lib/python3.7/dist-packages (from -r requirements/runtime.txt (line 2)) (1.5.3)\n",
            "Requirement already satisfied: Pillow in /usr/local/lib/python3.7/dist-packages (from -r requirements/runtime.txt (line 5)) (6.2.2)\n",
            "Requirement already satisfied: six in /usr/local/lib/python3.7/dist-packages (from -r requirements/runtime.txt (line 6)) (1.15.0)\n",
            "Requirement already satisfied: terminaltables in /usr/local/lib/python3.7/dist-packages (from -r requirements/runtime.txt (line 7)) (3.1.10)\n",
            "Requirement already satisfied: torchvision in /usr/local/lib/python3.7/dist-packages (from -r requirements/runtime.txt (line 9)) (0.12.0+cu113)\n",
            "Requirement already satisfied: asynctest in /usr/local/lib/python3.7/dist-packages (from -r requirements/tests.txt (line 1)) (0.13.0)\n",
            "Requirement already satisfied: codecov in /usr/local/lib/python3.7/dist-packages (from -r requirements/tests.txt (line 2)) (2.1.12)\n",
            "Requirement already satisfied: flake8 in /usr/local/lib/python3.7/dist-packages (from -r requirements/tests.txt (line 3)) (4.0.1)\n",
            "Requirement already satisfied: isort in /usr/local/lib/python3.7/dist-packages (from -r requirements/tests.txt (line 4)) (5.10.1)\n",
            "Requirement already satisfied: kwarray in /usr/local/lib/python3.7/dist-packages (from -r requirements/tests.txt (line 6)) (0.6.2)\n",
            "Requirement already satisfied: pytest in /usr/local/lib/python3.7/dist-packages (from -r requirements/tests.txt (line 7)) (3.6.4)\n",
            "Requirement already satisfied: pytest-cov in /usr/local/lib/python3.7/dist-packages (from -r requirements/tests.txt (line 8)) (2.9.0)\n",
            "Requirement already satisfied: pytest-runner in /usr/local/lib/python3.7/dist-packages (from -r requirements/tests.txt (line 9)) (6.0.0)\n",
            "Requirement already satisfied: ubelt in /usr/local/lib/python3.7/dist-packages (from -r requirements/tests.txt (line 10)) (1.1.1)\n",
            "Requirement already satisfied: xdoctest in /usr/local/lib/python3.7/dist-packages (from -r requirements/tests.txt (line 11)) (1.0.0)\n",
            "Requirement already satisfied: yapf in /usr/local/lib/python3.7/dist-packages (from -r requirements/tests.txt (line 12)) (0.32.0)\n",
            "Requirement already satisfied: typing-extensions in /usr/local/lib/python3.7/dist-packages (from torch>=1.1->-r requirements/build.txt (line 3)) (4.1.1)\n",
            "Requirement already satisfied: scipy in /usr/local/lib/python3.7/dist-packages (from albumentations->-r requirements/optional.txt (line 1)) (1.4.1)\n",
            "Requirement already satisfied: opencv-python-headless>=4.1.1 in /usr/local/lib/python3.7/dist-packages (from albumentations->-r requirements/optional.txt (line 1)) (4.6.0.66)\n",
            "Requirement already satisfied: qudida>=0.0.4 in /usr/local/lib/python3.7/dist-packages (from albumentations->-r requirements/optional.txt (line 1)) (0.0.4)\n",
            "Requirement already satisfied: scikit-image<0.19,>=0.16.1 in /usr/local/lib/python3.7/dist-packages (from albumentations->-r requirements/optional.txt (line 1)) (0.18.3)\n",
            "Requirement already satisfied: PyYAML in /usr/local/lib/python3.7/dist-packages (from albumentations->-r requirements/optional.txt (line 1)) (3.13)\n",
            "Requirement already satisfied: scikit-learn>=0.19.1 in /usr/local/lib/python3.7/dist-packages (from qudida>=0.0.4->albumentations->-r requirements/optional.txt (line 1)) (1.0.2)\n",
            "Requirement already satisfied: networkx>=2.0 in /usr/local/lib/python3.7/dist-packages (from scikit-image<0.19,>=0.16.1->albumentations->-r requirements/optional.txt (line 1)) (2.6.3)\n",
            "Requirement already satisfied: imageio>=2.3.0 in /usr/local/lib/python3.7/dist-packages (from scikit-image<0.19,>=0.16.1->albumentations->-r requirements/optional.txt (line 1)) (2.4.1)\n",
            "Requirement already satisfied: tifffile>=2019.7.26 in /usr/local/lib/python3.7/dist-packages (from scikit-image<0.19,>=0.16.1->albumentations->-r requirements/optional.txt (line 1)) (2021.11.2)\n",
            "Requirement already satisfied: PyWavelets>=1.1.1 in /usr/local/lib/python3.7/dist-packages (from scikit-image<0.19,>=0.16.1->albumentations->-r requirements/optional.txt (line 1)) (1.3.0)\n",
            "Requirement already satisfied: pyparsing!=2.0.4,!=2.1.2,!=2.1.6,>=2.0.1 in /usr/local/lib/python3.7/dist-packages (from matplotlib->-r requirements/runtime.txt (line 1)) (3.0.9)\n",
            "Requirement already satisfied: python-dateutil>=2.1 in /usr/local/lib/python3.7/dist-packages (from matplotlib->-r requirements/runtime.txt (line 1)) (2.8.2)\n",
            "Requirement already satisfied: kiwisolver>=1.0.1 in /usr/local/lib/python3.7/dist-packages (from matplotlib->-r requirements/runtime.txt (line 1)) (1.4.3)\n",
            "Requirement already satisfied: cycler>=0.10 in /usr/local/lib/python3.7/dist-packages (from matplotlib->-r requirements/runtime.txt (line 1)) (0.11.0)\n",
            "Requirement already satisfied: threadpoolctl>=2.0.0 in /usr/local/lib/python3.7/dist-packages (from scikit-learn>=0.19.1->qudida>=0.0.4->albumentations->-r requirements/optional.txt (line 1)) (3.1.0)\n",
            "Requirement already satisfied: joblib>=0.11 in /usr/local/lib/python3.7/dist-packages (from scikit-learn>=0.19.1->qudida>=0.0.4->albumentations->-r requirements/optional.txt (line 1)) (1.1.0)\n",
            "Requirement already satisfied: pyquaternion in /usr/local/lib/python3.7/dist-packages (from cityscapesscripts->-r requirements/optional.txt (line 2)) (0.9.9)\n",
            "Requirement already satisfied: typing in /usr/local/lib/python3.7/dist-packages (from cityscapesscripts->-r requirements/optional.txt (line 2)) (3.7.4.3)\n",
            "Requirement already satisfied: coloredlogs in /usr/local/lib/python3.7/dist-packages (from cityscapesscripts->-r requirements/optional.txt (line 2)) (15.0.1)\n",
            "Requirement already satisfied: appdirs in /usr/local/lib/python3.7/dist-packages (from cityscapesscripts->-r requirements/optional.txt (line 2)) (1.4.4)\n",
            "Requirement already satisfied: tqdm in /usr/local/lib/python3.7/dist-packages (from cityscapesscripts->-r requirements/optional.txt (line 2)) (4.64.0)\n",
            "Requirement already satisfied: opencv-python>=3.4.5 in /usr/local/lib/python3.7/dist-packages (from imagecorruptions->-r requirements/optional.txt (line 3)) (4.1.2.30)\n",
            "Requirement already satisfied: addict in /usr/local/lib/python3.7/dist-packages (from mmcv->-r requirements/runtime.txt (line 2)) (2.4.0)\n",
            "Requirement already satisfied: packaging in /usr/local/lib/python3.7/dist-packages (from mmcv->-r requirements/runtime.txt (line 2)) (21.3)\n",
            "Requirement already satisfied: requests in /usr/local/lib/python3.7/dist-packages (from torchvision->-r requirements/runtime.txt (line 9)) (2.23.0)\n",
            "Requirement already satisfied: coverage in /usr/local/lib/python3.7/dist-packages (from codecov->-r requirements/tests.txt (line 2)) (6.4.1)\n",
            "Requirement already satisfied: certifi>=2017.4.17 in /usr/local/lib/python3.7/dist-packages (from requests->torchvision->-r requirements/runtime.txt (line 9)) (2022.6.15)\n",
            "Requirement already satisfied: urllib3!=1.25.0,!=1.25.1,<1.26,>=1.21.1 in /usr/local/lib/python3.7/dist-packages (from requests->torchvision->-r requirements/runtime.txt (line 9)) (1.24.3)\n",
            "Requirement already satisfied: idna<3,>=2.5 in /usr/local/lib/python3.7/dist-packages (from requests->torchvision->-r requirements/runtime.txt (line 9)) (2.10)\n",
            "Requirement already satisfied: chardet<4,>=3.0.2 in /usr/local/lib/python3.7/dist-packages (from requests->torchvision->-r requirements/runtime.txt (line 9)) (3.0.4)\n",
            "Requirement already satisfied: pyflakes<2.5.0,>=2.4.0 in /usr/local/lib/python3.7/dist-packages (from flake8->-r requirements/tests.txt (line 3)) (2.4.0)\n",
            "Requirement already satisfied: pycodestyle<2.9.0,>=2.8.0 in /usr/local/lib/python3.7/dist-packages (from flake8->-r requirements/tests.txt (line 3)) (2.8.0)\n",
            "Requirement already satisfied: importlib-metadata<4.3 in /usr/local/lib/python3.7/dist-packages (from flake8->-r requirements/tests.txt (line 3)) (4.2.0)\n",
            "Requirement already satisfied: mccabe<0.7.0,>=0.6.0 in /usr/local/lib/python3.7/dist-packages (from flake8->-r requirements/tests.txt (line 3)) (0.6.1)\n",
            "Requirement already satisfied: zipp>=0.5 in /usr/local/lib/python3.7/dist-packages (from importlib-metadata<4.3->flake8->-r requirements/tests.txt (line 3)) (3.8.0)\n",
            "Requirement already satisfied: more-itertools>=4.0.0 in /usr/local/lib/python3.7/dist-packages (from pytest->-r requirements/tests.txt (line 7)) (8.13.0)\n",
            "Requirement already satisfied: attrs>=17.4.0 in /usr/local/lib/python3.7/dist-packages (from pytest->-r requirements/tests.txt (line 7)) (21.4.0)\n",
            "Requirement already satisfied: setuptools in /usr/local/lib/python3.7/dist-packages (from pytest->-r requirements/tests.txt (line 7)) (57.4.0)\n",
            "Requirement already satisfied: py>=1.5.0 in /usr/local/lib/python3.7/dist-packages (from pytest->-r requirements/tests.txt (line 7)) (1.11.0)\n",
            "Requirement already satisfied: pluggy<0.8,>=0.5 in /usr/local/lib/python3.7/dist-packages (from pytest->-r requirements/tests.txt (line 7)) (0.7.1)\n",
            "Requirement already satisfied: atomicwrites>=1.0 in /usr/local/lib/python3.7/dist-packages (from pytest->-r requirements/tests.txt (line 7)) (1.4.0)\n",
            "Requirement already satisfied: humanfriendly>=9.1 in /usr/local/lib/python3.7/dist-packages (from coloredlogs->cityscapesscripts->-r requirements/optional.txt (line 2)) (10.0)\n",
            "/content\n"
          ]
        }
      ]
    },
    {
      "cell_type": "code",
      "metadata": {
        "id": "pJbYXou6chZf",
        "outputId": "37c3903c-f872-43c9-8a07-9a2570d3ceb5",
        "colab": {
          "base_uri": "https://localhost:8080/"
        }
      },
      "source": [
        "from google.colab import drive\n",
        "drive.mount('/content/drive')"
      ],
      "execution_count": 3,
      "outputs": [
        {
          "output_type": "stream",
          "name": "stdout",
          "text": [
            "Mounted at /content/drive\n"
          ]
        }
      ]
    },
    {
      "cell_type": "code",
      "metadata": {
        "id": "bowcECOraVCG",
        "colab": {
          "base_uri": "https://localhost:8080/"
        },
        "outputId": "59436f50-c852-41f5-88b0-77e9a0f2b80d"
      },
      "source": [
        "!git clone https://github.com/DevashishPrasad/CascadeTabNet.git"
      ],
      "execution_count": 4,
      "outputs": [
        {
          "output_type": "stream",
          "name": "stdout",
          "text": [
            "Cloning into 'CascadeTabNet'...\n",
            "remote: Enumerating objects: 675, done.\u001b[K\n",
            "remote: Total 675 (delta 0), reused 0 (delta 0), pack-reused 675\u001b[K\n",
            "Receiving objects: 100% (675/675), 16.55 MiB | 30.49 MiB/s, done.\n",
            "Resolving deltas: 100% (328/328), done.\n"
          ]
        }
      ]
    },
    {
      "cell_type": "code",
      "metadata": {
        "id": "UWv1J6QsdBUu",
        "colab": {
          "base_uri": "https://localhost:8080/"
        },
        "outputId": "cc669807-ca7c-4a57-a1d6-ca7f3c08f33f"
      },
      "source": [
        "!gdown \"https://drive.google.com/u/0/uc?id=1-QieHkR1Q7CXuBu4fp3rYrvDG9j26eFT\""
      ],
      "execution_count": 5,
      "outputs": [
        {
          "output_type": "stream",
          "name": "stdout",
          "text": [
            "Downloading...\n",
            "From: https://drive.google.com/u/0/uc?id=1-QieHkR1Q7CXuBu4fp3rYrvDG9j26eFT\n",
            "To: /content/epoch_36.pth\n",
            "100% 664M/664M [00:04<00:00, 147MB/s]\n"
          ]
        }
      ]
    },
    {
      "cell_type": "code",
      "metadata": {
        "id": "liRq7jxedI9e",
        "colab": {
          "base_uri": "https://localhost:8080/"
        },
        "outputId": "5df459df-62c0-46df-fd34-e0cf815a7df6"
      },
      "source": [
        "from google.colab import drive\n",
        "drive.mount('/content/drive')"
      ],
      "execution_count": 6,
      "outputs": [
        {
          "output_type": "stream",
          "name": "stdout",
          "text": [
            "Drive already mounted at /content/drive; to attempt to forcibly remount, call drive.mount(\"/content/drive\", force_remount=True).\n"
          ]
        }
      ]
    },
    {
      "cell_type": "code",
      "metadata": {
        "id": "G2LnxNImdirU",
        "colab": {
          "base_uri": "https://localhost:8080/"
        },
        "outputId": "7402e96d-9fce-4c91-c0b8-73ffb6d65f05"
      },
      "source": [
        "!wget https://bin.equinox.io/c/4VmDzA7iaHb/ngrok-stable-linux-amd64.zip\n",
        "!unzip ngrok-stable-linux-amd64.zip"
      ],
      "execution_count": 7,
      "outputs": [
        {
          "output_type": "stream",
          "name": "stdout",
          "text": [
            "--2022-06-25 15:51:39--  https://bin.equinox.io/c/4VmDzA7iaHb/ngrok-stable-linux-amd64.zip\n",
            "Resolving bin.equinox.io (bin.equinox.io)... 18.205.222.128, 54.237.133.81, 52.202.168.65, ...\n",
            "Connecting to bin.equinox.io (bin.equinox.io)|18.205.222.128|:443... connected.\n",
            "HTTP request sent, awaiting response... 200 OK\n",
            "Length: 13832437 (13M) [application/octet-stream]\n",
            "Saving to: ‘ngrok-stable-linux-amd64.zip’\n",
            "\n",
            "ngrok-stable-linux- 100%[===================>]  13.19M  3.30MB/s    in 5.0s    \n",
            "\n",
            "2022-06-25 15:51:44 (2.63 MB/s) - ‘ngrok-stable-linux-amd64.zip’ saved [13832437/13832437]\n",
            "\n",
            "Archive:  ngrok-stable-linux-amd64.zip\n",
            "  inflating: ngrok                   \n"
          ]
        }
      ]
    },
    {
      "cell_type": "code",
      "metadata": {
        "id": "kMhphIYJdxl3"
      },
      "source": [
        "get_ipython().system_raw('./ngrok http 8501 &')"
      ],
      "execution_count": 8,
      "outputs": []
    },
    {
      "cell_type": "code",
      "metadata": {
        "id": "VQBeaaQHdz9u",
        "colab": {
          "base_uri": "https://localhost:8080/"
        },
        "outputId": "510bc683-97fc-4a34-e8df-11b23e367868"
      },
      "source": [
        "!curl -s http://localhost:4040/api/tunnels | python3 -c \\\n",
        "    'import sys, json; print(\"Execute the next cell and the go to the following URL: \" +json.load(sys.stdin)[\"tunnels\"][0][\"public_url\"])'"
      ],
      "execution_count": 9,
      "outputs": [
        {
          "output_type": "stream",
          "name": "stdout",
          "text": [
            "Execute the next cell and the go to the following URL: https://2f4c-35-197-40-80.ngrok.io\n"
          ]
        }
      ]
    },
    {
      "cell_type": "code",
      "metadata": {
        "id": "1JMFnD2gd2Cv",
        "colab": {
          "base_uri": "https://localhost:8080/"
        },
        "outputId": "fc85f5c2-c407-459d-d4e3-de60ab51d352"
      },
      "source": [
        "!streamlit run \"drive/MyDrive/Table Detection/app.py\""
      ],
      "execution_count": 10,
      "outputs": [
        {
          "output_type": "stream",
          "name": "stdout",
          "text": [
            "2022-06-25 15:52:11.789 INFO    numexpr.utils: NumExpr defaulting to 4 threads.\n",
            "Usage: streamlit run [OPTIONS] TARGET [ARGS]...\n",
            "\n",
            "Error: Invalid value: File does not exist: drive/MyDrive/Table Detection/app.py\n"
          ]
        }
      ]
    }
  ]
}